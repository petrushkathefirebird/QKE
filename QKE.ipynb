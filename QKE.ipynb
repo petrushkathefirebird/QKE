{
 "cells": [
  {
   "cell_type": "markdown",
   "id": "b276fb66-9bc7-46f3-a9d3-61176efce874",
   "metadata": {},
   "source": [
    "# Quantum kernel estimation using a single control qubit\n",
    "\n",
    "In this notebook, we implement a method for quantum kernel estimation (QKE) that involves measurements of only one qubit. QKE has applications in machine learning in the context of training quantum support vector machines. [1]"
   ]
  },
  {
   "cell_type": "code",
   "execution_count": 98,
   "id": "154253b2-a990-4e22-8b76-0c445a8fbe15",
   "metadata": {},
   "outputs": [
    {
     "name": "stderr",
     "output_type": "stream",
     "text": [
      "ibmqfactory.load_account:WARNING:2021-10-02 15:41:46,869: Credentials are already in use. The existing account in the session will be replaced.\n"
     ]
    }
   ],
   "source": [
    "import numpy as np\n",
    "\n",
    "# Importing standard Qiskit libraries\n",
    "from qiskit import QuantumCircuit, transpile, Aer, IBMQ, execute\n",
    "from qiskit.tools.jupyter import *\n",
    "from qiskit.visualization import *\n",
    "from ibm_quantum_widgets import *\n",
    "from qiskit.providers.aer import QasmSimulator\n",
    "from qiskit.circuit.library import ZZFeatureMap\n",
    "from qiskit.circuit import Parameter, Gate, ControlledGate\n",
    "from qiskit.extensions.unitary import UnitaryGate\n",
    "from qiskit.quantum_info import Operator\n",
    "\n",
    "\n",
    "# Loading your IBM Quantum account(s)\n",
    "provider = IBMQ.load_account()"
   ]
  },
  {
   "cell_type": "markdown",
   "id": "9791604c-6833-4e0f-9a2f-fcbc7ae24431",
   "metadata": {},
   "source": [
    "# Turning a parametrized encoding into a gate\n",
    "\n",
    "For our mapping (data encoding) function, we use the `ZZFeatureMap`, printed below for `feature_dimension=2`."
   ]
  },
  {
   "cell_type": "code",
   "execution_count": 73,
   "id": "e7fad17c-7980-4167-b7dd-ec59df62e5fc",
   "metadata": {},
   "outputs": [
    {
     "name": "stdout",
     "output_type": "stream",
     "text": [
      "     ┌───┐ ░ ┌──────────────┐                                           \n",
      "q_0: ┤ H ├─░─┤ U1(2.0*x[0]) ├──■─────────────────────────────────────■──\n",
      "     ├───┤ ░ ├──────────────┤┌─┴─┐┌───────────────────────────────┐┌─┴─┐\n",
      "q_1: ┤ H ├─░─┤ U1(2.0*x[1]) ├┤ X ├┤ U1(2.0*(π - x[0])*(π - x[1])) ├┤ X ├\n",
      "     └───┘ ░ └──────────────┘└───┘└───────────────────────────────┘└───┘\n"
     ]
    }
   ],
   "source": [
    "print(ZZFeatureMap(feature_dimension=2, reps=1, entanglement='linear', insert_barriers=True))"
   ]
  },
  {
   "cell_type": "markdown",
   "id": "5cff668d-2d5d-40d2-8ca8-74c8f8378218",
   "metadata": {},
   "source": [
    "For future use, we implement this feature map as a controlled unitary acting on some subset of our qubits. The following function takes as input `N`, the number of qubits in said subset; `parameters`, a list of $N$ numbers that parametrize the map; `controlled`, which we set to true when we want to realize the map as a controlled unitary; and `inverse`, which, if set to True, inverts the map before turning it into an operator.  "
   ]
  },
  {
   "cell_type": "code",
   "execution_count": 213,
   "id": "d3dfde5b-f96b-4d50-9669-9d8654f66b16",
   "metadata": {},
   "outputs": [],
   "source": [
    "def encoding_to_gate(N, parameters, controlled=False, inverse=False):\n",
    "    \n",
    "    def gate_label(inverse):\n",
    "        if inverse == True:\n",
    "            label = '\\u03A6'+str(parameters[0:N])+'.dg'\n",
    "        else:\n",
    "            label = '\\u03A6'+str(parameters[0:N])\n",
    "        return label\n",
    "    \n",
    "    def encoding(inverse):\n",
    "        if inverse == True:\n",
    "            ZZmap = ZZFeatureMap(feature_dimension=N, \n",
    "                                 reps=1, \n",
    "                                 entanglement='linear', \n",
    "                                 insert_barriers=True).bind_parameters(parameters).inverse()\n",
    "        else:\n",
    "            ZZmap = ZZFeatureMap(feature_dimension=N, \n",
    "                                 reps=1, \n",
    "                                 entanglement='linear', \n",
    "                                 insert_barriers=True).bind_parameters(parameters)\n",
    "        return ZZmap\n",
    "    \n",
    "    if controlled == True:\n",
    "        feature_gate = UnitaryGate(Operator(encoding(inverse)), label=gate_label(inverse)).control(1)             \n",
    "    else:\n",
    "        feature_gate = UnitaryGate(Operator(encoding(inverse)), label=gate_label(inverse))\n",
    "        \n",
    "    return feature_gate"
   ]
  },
  {
   "cell_type": "markdown",
   "id": "147a155c-2490-4c6e-99a6-b01003e020dc",
   "metadata": {},
   "source": [
    "# Generating a set of parameters\n",
    "\n",
    "We generate a random set of $2N$ parameters to use in our circuit. In a machine learning scenario, the first half $(x_0,\\dots,x_{N-1})$ of these parameters would correspond to one data point $\\vec{x}_i\\equiv (x_0,\\dots,x_{N-1})$, and the second half $(x_N,\\dots,x_{2N})$ to another point $\\vec{x}_j\\equiv (x_N,\\dots,x_{2N})$. Note that we have one qubit for every feature in our data."
   ]
  },
  {
   "cell_type": "code",
   "execution_count": 201,
   "id": "0d94bbe3-a050-41b5-8c2f-4ab12e5063cb",
   "metadata": {},
   "outputs": [
    {
     "name": "stdout",
     "output_type": "stream",
     "text": [
      "[0.32, 0.11, 0.83, 0.42]\n"
     ]
    }
   ],
   "source": [
    "N = 2\n",
    "parameters = np.random.uniform(size=2*N)\n",
    "parameters = [round(p,2) for p in parameters]\n",
    "print(parameters)"
   ]
  },
  {
   "cell_type": "markdown",
   "id": "c7218df6-e6fc-45cc-a4ec-6ed8b4c07b7c",
   "metadata": {},
   "source": [
    "# Quantum kernel estimation\n",
    "\n",
    "The parameters are encoded into the circuit using the `encoding_to_gate` function defined above. Starting in the state $|0\\rangle^{\\otimes N}$, we apply first $\\Phi(\\vec{x}_i)$, then $\\Phi^\\dagger(\\vec{x}_j)$. The probability of measuring the all-zero bitstring is then equal to the quantum kernel matrix element $K_{ij}=\\lvert\\langle\\Phi(\\vec{x}_i)|\\Phi(\\vec{x}_j)\\rangle\\rvert^2$, where $|\\Phi(\\vec{x}_i)\\rangle=\\Phi(\\vec{x}_i)|0\\rangle^{\\otimes N}$. Note that this requires measuring all the qubits, so for single-qubit readout error probability $q\\ll 1$, the probability of successfully 'detecting' the all-zero bitstring goes like $1-Nq$."
   ]
  },
  {
   "cell_type": "code",
   "execution_count": 215,
   "id": "f2357ba6-af1b-401e-be2f-68bdfe70c130",
   "metadata": {},
   "outputs": [
    {
     "data": {
      "image/png": "[encoded data removed]",
      "text/plain": [
       "<Figure size 658.679x204.68 with 1 Axes>"
      ]
     },
     "execution_count": 215,
     "metadata": {},
     "output_type": "execute_result"
    }
   ],
   "source": [
    "QKE = QuantumCircuit(N)\n",
    "QKE.append(encoding_to_gate(N, parameters[0:N]), range(N))\n",
    "QKE.append(encoding_to_gate(N, parameters[N:2*N], inverse=True), range(N))\n",
    "QKE.measure_all()\n",
    "QKE.draw()"
   ]
  },
  {
   "cell_type": "markdown",
   "id": "ea4c8b77-7e22-4264-b74b-ef08073a626f",
   "metadata": {},
   "source": [
    "We run our QKE circuit `num_shots` times in order to build statistics. This allows us to estimate $K_{ij}=P(\\text{measure all zeros})$."
   ]
  },
  {
   "cell_type": "code",
   "execution_count": 228,
   "id": "ad7a8037-130a-48b1-9911-4d3e9eac7e7e",
   "metadata": {},
   "outputs": [
    {
     "name": "stdout",
     "output_type": "stream",
     "text": [
      "Kij = 0.3037109375\n"
     ]
    }
   ],
   "source": [
    "backend = Aer.get_backend('qasm_simulator')\n",
    "\n",
    "num_shots = 4096\n",
    "counts = execute(QKE, backend, shots=num_shots).result().get_counts()\n",
    "prob_all_zeros = counts['0'*N]/num_shots\n",
    "\n",
    "print('Kij =', prob_all_zeros)"
   ]
  },
  {
   "cell_type": "markdown",
   "id": "55f3336b-ac4d-416c-88ff-e5f2ac6a7165",
   "metadata": {},
   "source": [
    "# Quantum kernel estimation through measurements of a single qubit\n",
    "\n",
    "By realizing our encoding as a controlled unitary, we can accomplish the same task through measurements of a single qubit (using the circuit below). Measuring the control qubit in the $X$-basis ($Y$-basis) returns the real (imaginary) part of $\\langle\\Phi(\\vec{x}_i)|\\Phi(\\vec{x}_j)\\rangle$."
   ]
  },
  {
   "cell_type": "code",
   "execution_count": 223,
   "id": "091d010f-b495-4692-a815-d7fa3e0369ab",
   "metadata": {},
   "outputs": [
    {
     "data": {
      "image/png": "[encoded data removed]",
      "text/plain": [
       "<Figure size 748.797x264.88 with 1 Axes>"
      ]
     },
     "execution_count": 223,
     "metadata": {},
     "output_type": "execute_result"
    }
   ],
   "source": [
    "qc = QuantumCircuit(N+1, 1)\n",
    "qc.h(0)\n",
    "qc.append(encoding_to_gate(N, parameters[0:N], controlled=True), range(N+1))\n",
    "qc.x(0)\n",
    "qc.append(encoding_to_gate(N, parameters[N:2*N], controlled=True), range(N+1))\n",
    "qc.x(0)\n",
    "qc.h(0)\n",
    "qc.measure(0, 0)\n",
    "qc.draw()"
   ]
  },
  {
   "cell_type": "markdown",
   "id": "bc329c73-cc74-4dd1-b6c4-c2e8b20e4695",
   "metadata": {},
   "source": [
    "The following function returns the circuit above, with an extra $S^\\dagger$ gate before the final Hadamard in the case where `measure_Y=True`. "
   ]
  },
  {
   "cell_type": "code",
   "execution_count": 205,
   "id": "fd11ff18-5e73-46f4-a75a-6b8d40f8ded7",
   "metadata": {},
   "outputs": [],
   "source": [
    "def circuit(measure_Y=False):\n",
    "    qc = QuantumCircuit(N+1, 1)\n",
    "    qc.h(0)\n",
    "    qc.append(encoding_to_gate(N, parameters[0:N], controlled=True), range(N+1))\n",
    "    qc.x(0)\n",
    "    qc.append(encoding_to_gate(N, parameters[N:2*N], controlled=True), range(N+1))\n",
    "    qc.x(0)\n",
    "    if measure_Y == True:\n",
    "        qc.sdg(0)\n",
    "    qc.h(0)\n",
    "    qc.measure(0, 0)\n",
    "    return qc\n"
   ]
  },
  {
   "cell_type": "markdown",
   "id": "19af6acd-3ff8-43a1-94b4-ce7d4f60b1dc",
   "metadata": {},
   "source": [
    "We run our circuit `num_shots` times, measuring in both the X- and Y-bases. We then combine the real and imaginary parts of $\\langle\\Phi(\\vec{x}_i)|\\Phi(\\vec{x}_j)\\rangle$ to produce an estimate for $K_{ij}=\\lvert\\langle\\Phi(\\vec{x}_i)|\\Phi(\\vec{x}_j)\\rangle\\rvert^2$."
   ]
  },
  {
   "cell_type": "code",
   "execution_count": 229,
   "id": "34e1f1d4-71d0-4b6a-a040-dbcb808cb04e",
   "metadata": {},
   "outputs": [
    {
     "name": "stdout",
     "output_type": "stream",
     "text": [
      "Kij = 0.29039859771728516\n"
     ]
    }
   ],
   "source": [
    "[X, Y] = [circuit(), circuit(True)]\n",
    "result = execute([X, Y], backend, shots=num_shots).result()\n",
    "\n",
    "X_counts = result.get_counts(X)\n",
    "Y_counts = result.get_counts(Y)\n",
    "\n",
    "X0 = X_counts.get('0') if X_counts.get('0') != None else 0\n",
    "X1 = X_counts.get('1') if X_counts.get('1') != None else 0\n",
    "\n",
    "Y0 = Y_counts.get('0') if Y_counts.get('0') != None else 0\n",
    "Y1 = Y_counts.get('1') if Y_counts.get('1') != None else 0\n",
    "\n",
    "amplitude = ((X0+1j*Y0)-(X1+1j*Y1))/num_shots\n",
    "kij = abs(amplitude)**2\n",
    "\n",
    "print('Kij =', kij)"
   ]
  },
  {
   "cell_type": "markdown",
   "id": "4682ca0f-7660-40e4-a0b2-f3c51c54274e",
   "metadata": {},
   "source": [
    "For convenience, we reprint the value obtained before (by calculating the probability of measuring the all-zero bitstring):\n"
   ]
  },
  {
   "cell_type": "code",
   "execution_count": 230,
   "id": "3b349165-8486-44ba-a82a-1f5abc96e8fe",
   "metadata": {},
   "outputs": [
    {
     "name": "stdout",
     "output_type": "stream",
     "text": [
      "0.3037109375\n"
     ]
    }
   ],
   "source": [
    "print(prob_all_zeros)"
   ]
  },
  {
   "cell_type": "markdown",
   "id": "d562bbb4-58d2-4d03-a122-a7dbb9f0946a",
   "metadata": {},
   "source": [
    "[1] Havlicek et al. \"Supervised learning with quantum-enhanced feature spaces\", Nature 567, 209-212."
   ]
  },
  {
   "cell_type": "code",
   "execution_count": null,
   "id": "90546ff9-b603-4812-a4f6-01091cf3e83f",
   "metadata": {},
   "outputs": [],
   "source": []
  }
 ],
 "metadata": {
  "kernelspec": {
   "display_name": "Qiskit v0.30.1 (ipykernel)",
   "language": "python",
   "name": "python3"
  },
  "language_info": {
   "codemirror_mode": {
    "name": "ipython",
    "version": 3
   },
   "file_extension": ".py",
   "mimetype": "text/x-python",
   "name": "python",
   "nbconvert_exporter": "python",
   "pygments_lexer": "ipython3",
   "version": "3.8.10"
  },
  "widgets": {
   "application/vnd.jupyter.widget-state+json": {
    "state": {},
    "version_major": 2,
    "version_minor": 0
   }
  }
 },
 "nbformat": 4,
 "nbformat_minor": 5
}
